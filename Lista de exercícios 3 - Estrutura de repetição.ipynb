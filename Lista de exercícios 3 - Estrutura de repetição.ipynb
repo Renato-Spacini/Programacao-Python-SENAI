{
 "cells": [
  {
   "cell_type": "markdown",
   "id": "637599dc",
   "metadata": {},
   "source": [
    "### Exercício 01\n",
    "– Faça um programa que peça uma nota, entre zero e dez. Mostre uma mensagem caso o valor seja inválido e continue pedindo até que o usuário informe um valor válido."
   ]
  },
  {
   "cell_type": "code",
   "execution_count": null,
   "id": "6a5fe2f8",
   "metadata": {},
   "outputs": [],
   "source": [
    "nota = ['0', '1', '2', '3', '4', '5', '6', '7', '8', '9', '10']"
   ]
  },
  {
   "cell_type": "markdown",
   "id": "49ac2302",
   "metadata": {},
   "source": [
    "### Faça um programa que verifique se a letra é vogal ou consoante - lista 2"
   ]
  },
  {
   "cell_type": "code",
   "execution_count": null,
   "id": "53979f15",
   "metadata": {},
   "outputs": [],
   "source": [
    "vogais = ['a', 'e', 'i', 'o', 'u']\n",
    "\n",
    "letra_user = input('Digite uma letra: ')\n",
    "\n",
    "for letra in vogais:\n",
    "    if letra_user == letra:\n",
    "        print('é uma vogal!')\n",
    "    else:\n",
    "        print('é uma consoante')"
   ]
  },
  {
   "cell_type": "markdown",
   "id": "0a6d7709",
   "metadata": {},
   "source": [
    "### Exercício 06 \n",
    "- Faça um programa que imprima na tela os números de 1 a 20, um abaixo do outro. Depois modifique o programa para que ele mostre os números um ao lado do outro."
   ]
  },
  {
   "cell_type": "code",
   "execution_count": null,
   "id": "5375b165",
   "metadata": {},
   "outputs": [],
   "source": [
    "numeros = [1,2,3,4,5,6,7,8,9,10,11,12,13,14,15,16,17,18,19,20]\n",
    "\n",
    "for num in numeros:\n",
    "    print(num)"
   ]
  },
  {
   "cell_type": "code",
   "execution_count": null,
   "id": "e96e4722",
   "metadata": {},
   "outputs": [],
   "source": [
    "numeros = range(1,21)\n",
    "\n",
    "for num in numeros:\n",
    "    print(num)"
   ]
  },
  {
   "cell_type": "code",
   "execution_count": null,
   "id": "c197c871",
   "metadata": {},
   "outputs": [],
   "source": [
    "lista = range(1,21)\n",
    "\n",
    "numeros = [] #-----------------------lista vazia\n",
    "\n",
    "for x in lista:\n",
    "    numeros.append(x)\n",
    "\n",
    "print(f'foram adicionados {x} elementos à lista')\n",
    "print(numeros)\n"
   ]
  },
  {
   "cell_type": "markdown",
   "id": "818ae81d",
   "metadata": {},
   "source": [
    "### Exercício 09 -\n",
    "Faça um programa que imprima na tela apenas os números ímpares entre 1 e 50."
   ]
  },
  {
   "cell_type": "code",
   "execution_count": null,
   "id": "24ec6c3e",
   "metadata": {},
   "outputs": [],
   "source": [
    "lista = range(1,51)\n",
    "\n",
    "numeros = []\n",
    "   \n",
    "for impar in lista:\n",
    "    if impar % 2 != 0:\n",
    "        numeros.append(impar)\n",
    "        \n",
    "print(numeros)"
   ]
  },
  {
   "cell_type": "markdown",
   "id": "3a19c731",
   "metadata": {},
   "source": [
    "### Exercício 07 \n",
    "- Faça um programa que leia 5 números e informe o maior número."
   ]
  },
  {
   "cell_type": "code",
   "execution_count": null,
   "id": "be4fc933",
   "metadata": {},
   "outputs": [],
   "source": [
    "\n",
    "\n",
    "num1 = int(input('digite o primeiro valor: '))\n",
    "num2 = int(input('digite o segundo valor: '))\n",
    "num3 = int(input('digite o terceiro valor: '))\n",
    "num4 = int(input('digite o terceiro valor: '))\n",
    "num5 = int(input('digite o terceiro valor: '))\n",
    "   \n",
    "numeros = [] \n",
    "\n",
    "numeros.append(num1)\n",
    "numeros.append(num2)\n",
    "numeros.append(num3)\n",
    "numeros.append(num4)\n",
    "numeros.append(num5)\n",
    "\n",
    "for maior in numeros:\n",
    "    \n",
    "    print(maior)"
   ]
  },
  {
   "cell_type": "code",
   "execution_count": null,
   "id": "c8680fe5",
   "metadata": {},
   "outputs": [],
   "source": [
    "controle = range(0,5) # lista de controle de repetição\n",
    "\n",
    "numeros = [] #lista utilizada para armazenar os numeros inseridos\n",
    "\n",
    "for x in controle:\n",
    "    num = int(input('digite um numero: '))\n",
    "    numeros.append(num)\n",
    "      \n",
    "maior = max(numeros) # função que mostra o valor maximo \n",
    "menor = min(numeros) # função que mostra o valor minimo\n",
    "    \n",
    "print(f'o maior valor na lista é {maior} e o menor é {menor}.')\n"
   ]
  },
  {
   "cell_type": "markdown",
   "id": "2771818d",
   "metadata": {},
   "source": [
    "### Exercício 12 \n",
    "- Desenvolva um gerador de tabuada, capaz de gerar a tabuada de qualquer número inteiro entre 1 a 10. O usuário deve informar de qual numero ele deseja ver a tabuada. A saída deve ser conforme o exemplo abaixo:"
   ]
  },
  {
   "cell_type": "code",
   "execution_count": 4,
   "id": "b0cf7e4b",
   "metadata": {},
   "outputs": [
    {
     "name": "stdout",
     "output_type": "stream",
     "text": [
      "----------TABUADA---------\n",
      "digite um numero de 1 a 10: 2\n",
      "TABUADA DO NUMERO 2\n",
      "2 x 1 = 2\n",
      "2 x 2 = 4\n",
      "2 x 3 = 6\n",
      "2 x 4 = 8\n",
      "2 x 5 = 10\n",
      "2 x 6 = 12\n",
      "2 x 7 = 14\n",
      "2 x 8 = 16\n",
      "2 x 9 = 18\n",
      "2 x 10 = 20\n"
     ]
    }
   ],
   "source": [
    "\n",
    "print('----------TABUADA---------')\n",
    "\n",
    "num = int(input('digite um numero de 1 a 10: '))\n",
    "\n",
    "multiplicadores = range(1,11) # lista de controle de repetição\n",
    "print(f'TABUADA DO NUMERO {num}')\n",
    "\n",
    "if num >= 1 and num <= 10:\n",
    "    for x in multiplicadores:\n",
    "        resultado = num * x\n",
    "        print(f'{num} x {x} = {resultado}')\n",
    "    \n",
    "else:\n",
    "    print('Valor fora da faixa de especificação.')\n",
    "  "
   ]
  }
 ],
 "metadata": {
  "kernelspec": {
   "display_name": "Python 3 (ipykernel)",
   "language": "python",
   "name": "python3"
  },
  "language_info": {
   "codemirror_mode": {
    "name": "ipython",
    "version": 3
   },
   "file_extension": ".py",
   "mimetype": "text/x-python",
   "name": "python",
   "nbconvert_exporter": "python",
   "pygments_lexer": "ipython3",
   "version": "3.10.9"
  }
 },
 "nbformat": 4,
 "nbformat_minor": 5
}

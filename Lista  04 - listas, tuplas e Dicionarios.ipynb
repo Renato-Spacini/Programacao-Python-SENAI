{
 "cells": [
  {
   "cell_type": "markdown",
   "id": "ae70685d",
   "metadata": {},
   "source": [
    "### Exercicio 01 - Crie uma lista com nomes de 4 times de futebol"
   ]
  },
  {
   "cell_type": "code",
   "execution_count": null,
   "id": "cba4288a",
   "metadata": {},
   "outputs": [],
   "source": [
    "times = ['Palmeiras','São Paulo'\n",
    "         , 'Santos', 'Agua Santa']\n",
    "\n",
    "# acessar o time da terceira posição\n",
    "times [2]\n",
    "\n",
    "#crie uma lista com duas listas de 3 times de futebos, cada uma de umadivisão diferente\n",
    "\n",
    "divisoes = [['a', 'b', 'c', 'd'],['e','f', 'g','h']]\n",
    "divisoes[1][0]\n",
    "    \n",
    "    \n"
   ]
  },
  {
   "cell_type": "markdown",
   "id": "ae54747a",
   "metadata": {},
   "source": [
    "### Exercicio 2 - crie uma lista com 3 diferente moedas. Acresente mais 2 outra moedas à essa lista."
   ]
  },
  {
   "cell_type": "code",
   "execution_count": 2,
   "id": "b880549f",
   "metadata": {},
   "outputs": [
    {
     "data": {
      "text/plain": [
       "['dolar', 'real', 'euro', 'peso', 'bitcoin']"
      ]
     },
     "execution_count": 2,
     "metadata": {},
     "output_type": "execute_result"
    }
   ],
   "source": [
    "moedas = ['dolar', 'real', 'euro']\n",
    "\n",
    "moedas.append('peso')\n",
    "moedas.append('bitcoin')\n",
    "\n",
    "moedas\n"
   ]
  },
  {
   "cell_type": "code",
   "execution_count": 12,
   "id": "0f575b2b",
   "metadata": {},
   "outputs": [
    {
     "data": {
      "text/plain": [
       "'dolar-real-euro-peso-bitcoin'"
      ]
     },
     "execution_count": 12,
     "metadata": {},
     "output_type": "execute_result"
    }
   ],
   "source": [
    "# transformar a lista em uma string\n",
    "\n",
    "moedas = '-'.join(moedas)\n",
    "moedas"
   ]
  },
  {
   "cell_type": "code",
   "execution_count": 13,
   "id": "cfb5882c",
   "metadata": {},
   "outputs": [
    {
     "data": {
      "text/plain": [
       "['dolar', 'real', 'euro', 'peso', 'bitcoin']"
      ]
     },
     "execution_count": 13,
     "metadata": {},
     "output_type": "execute_result"
    }
   ],
   "source": [
    "#transformar uma string em lista\n",
    "\n",
    "moedas = moedas.split('-')\n",
    "moedas\n"
   ]
  },
  {
   "cell_type": "markdown",
   "id": "4e03921d",
   "metadata": {},
   "source": [
    "### Tuplas (tuple)"
   ]
  },
  {
   "cell_type": "code",
   "execution_count": 15,
   "id": "16009d24",
   "metadata": {},
   "outputs": [],
   "source": [
    "valores = (90, 79, 54, 32, 21)\n",
    "pontos = (100, 94.05, 86.8, 62)\n",
    "\n"
   ]
  },
  {
   "cell_type": "code",
   "execution_count": 24,
   "id": "99d88113",
   "metadata": {},
   "outputs": [],
   "source": [
    "my_list = [1, 2]      #criando uma lista\n",
    "\n",
    "my_tuple = (1, 2)     #criando uma tupla\n",
    "\n",
    "other_tuple = (3, 4)  #criando uma tupla\n",
    "\n",
    "my_list [1] = 3 # substituindo um elemento de uma lista"
   ]
  },
  {
   "cell_type": "code",
   "execution_count": 25,
   "id": "94ba21ae",
   "metadata": {},
   "outputs": [
    {
     "name": "stdout",
     "output_type": "stream",
     "text": [
      "você não pode modificar uma tupla!\n"
     ]
    }
   ],
   "source": [
    "# tratamento de erro vai executar as ações do bloco TRY, caso não haja erro\n",
    "# se houver um erro, ele vai executar ações do bloco Except typeError\n",
    "\n",
    "try:\n",
    "    my_tuple[1] = 3\n",
    "except TypeError:\n",
    "    print('você não pode modificar uma tupla!')"
   ]
  },
  {
   "cell_type": "code",
   "execution_count": 20,
   "id": "138095f3",
   "metadata": {},
   "outputs": [],
   "source": [
    "def sum_and_product (x, y):\n",
    "    return (x + y), (x * y)\n",
    "\n",
    "sp = sum_and_product(5,6) #sp é 5 6\n"
   ]
  },
  {
   "cell_type": "code",
   "execution_count": 22,
   "id": "b25b2a9f",
   "metadata": {},
   "outputs": [
    {
     "data": {
      "text/plain": [
       "15"
      ]
     },
     "execution_count": 22,
     "metadata": {},
     "output_type": "execute_result"
    }
   ],
   "source": [
    "s, p = sum_and_product (5, 10) #s é 15 p e 50\n",
    "\n",
    "s"
   ]
  },
  {
   "cell_type": "markdown",
   "id": "97c9d947",
   "metadata": {},
   "source": [
    "### Dicionarios (dict)"
   ]
  },
  {
   "cell_type": "code",
   "execution_count": 35,
   "id": "81fa56e6",
   "metadata": {},
   "outputs": [
    {
     "name": "stdout",
     "output_type": "stream",
     "text": [
      "A altura do João é: 1.7\n",
      "O peso da Ana é: 86\n"
     ]
    }
   ],
   "source": [
    "altura = {'Amanda' : 1.65, 'Ana' : 1.60 , 'João' : 1.70}\n",
    "peso = {'Amanda': 65, 'Ana' : 86, 'João' : 170}\n",
    "\n",
    "print('A altura do João é:', altura['João'])\n",
    "print('O peso da Ana é:', peso['Ana'])"
   ]
  },
  {
   "cell_type": "raw",
   "id": "99067c3d",
   "metadata": {},
   "source": []
  },
  {
   "cell_type": "code",
   "execution_count": 39,
   "id": "358df6cb",
   "metadata": {},
   "outputs": [],
   "source": [
    "cadastro = {\n",
    "    'nome': 'Tânia',\n",
    "    'idade': 35,\n",
    "    'fruta':'uva',\n",
    "    'cor':'Roxa',\n",
    "    'musica':'forró'    \n",
    "}\n"
   ]
  },
  {
   "cell_type": "code",
   "execution_count": 40,
   "id": "c674a052",
   "metadata": {},
   "outputs": [
    {
     "data": {
      "text/plain": [
       "{'nome': 'Tânia',\n",
       " 'idade': 35,\n",
       " 'fruta': 'laranja',\n",
       " 'cor': 'Roxa',\n",
       " 'musica': 'forró'}"
      ]
     },
     "execution_count": 40,
     "metadata": {},
     "output_type": "execute_result"
    }
   ],
   "source": [
    "cadastro ['fruta'] = 'laranja'\n",
    "cadastro"
   ]
  },
  {
   "cell_type": "code",
   "execution_count": 41,
   "id": "8c4441d5",
   "metadata": {},
   "outputs": [
    {
     "data": {
      "text/plain": [
       "{'nome': 'Tânia', 'idade': 35, 'fruta': 'laranja', 'cor': 'Roxa'}"
      ]
     },
     "execution_count": 41,
     "metadata": {},
     "output_type": "execute_result"
    }
   ],
   "source": [
    "#\n",
    "del cadastro['musica']\n",
    "\n",
    "cadastro"
   ]
  },
  {
   "cell_type": "code",
   "execution_count": null,
   "id": "2ba07cd6",
   "metadata": {},
   "outputs": [],
   "source": [
    "cadastro.ipdate({'nome'})"
   ]
  },
  {
   "cell_type": "code",
   "execution_count": null,
   "id": "4b661b37",
   "metadata": {},
   "outputs": [],
   "source": []
  },
  {
   "cell_type": "code",
   "execution_count": null,
   "id": "53197504",
   "metadata": {},
   "outputs": [],
   "source": []
  }
 ],
 "metadata": {
  "kernelspec": {
   "display_name": "Python 3 (ipykernel)",
   "language": "python",
   "name": "python3"
  },
  "language_info": {
   "codemirror_mode": {
    "name": "ipython",
    "version": 3
   },
   "file_extension": ".py",
   "mimetype": "text/x-python",
   "name": "python",
   "nbconvert_exporter": "python",
   "pygments_lexer": "ipython3",
   "version": "3.10.9"
  }
 },
 "nbformat": 4,
 "nbformat_minor": 5
}

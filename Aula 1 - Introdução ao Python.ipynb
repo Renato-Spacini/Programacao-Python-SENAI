{
 "cells": [
  {
   "cell_type": "markdown",
   "id": "29a6c5f4",
   "metadata": {},
   "source": [
    "Exercício 01 – Crie um programa para receber dois valores e em seguida, exiba o valor da soma."
   ]
  },
  {
   "cell_type": "code",
   "execution_count": null,
   "id": "99a42cc2",
   "metadata": {},
   "outputs": [],
   "source": [
    "valor1 = 10\n",
    "valor2 = 30\n",
    "soma = valor1 + valor2\n",
    "print(soma)"
   ]
  },
  {
   "cell_type": "markdown",
   "id": "4ce0edd8",
   "metadata": {},
   "source": [
    "Exercício 02 – Crie um programa para receber dois valores e em seguida, exiba o valor da diferença entre eles."
   ]
  },
  {
   "cell_type": "code",
   "execution_count": null,
   "id": "1674bf3d",
   "metadata": {},
   "outputs": [],
   "source": [
    "v1 = 22\n",
    "v2 = 4\n",
    "diferenca = v1 -v2\n",
    "print(diferenca)"
   ]
  },
  {
   "cell_type": "markdown",
   "id": "7314a3c2",
   "metadata": {},
   "source": [
    "Operações Matemáticas\n",
    "\n",
    "(+) Adição\n",
    "\n",
    "\n",
    "(-) Subtração\n",
    "\n",
    "(/) Divisão\n",
    "\n",
    "(%) Resto da Divisão (porcentagem)\n",
    "\n",
    "(*) Multiplicação\n",
    "\n",
    "(**) Exponenciação"
   ]
  },
  {
   "cell_type": "markdown",
   "id": "ffacac77",
   "metadata": {},
   "source": [
    "Exercício 03 – Crie um programa para receber dois valores e em seguida, exiba o produto entre eles."
   ]
  },
  {
   "cell_type": "code",
   "execution_count": null,
   "id": "1f1864ae",
   "metadata": {},
   "outputs": [],
   "source": [
    "v1 = 10\n",
    "v2 = 5\n",
    "produto = v1 * v2\n",
    "print ('o resultado da multiplicação é',produto)"
   ]
  },
  {
   "cell_type": "markdown",
   "id": "0303ec43",
   "metadata": {},
   "source": [
    "Exercício 04 - Crie um programa para receber dois valores e em seguida, exiba o quociente entre eles."
   ]
  },
  {
   "cell_type": "code",
   "execution_count": null,
   "id": "0df66098",
   "metadata": {},
   "outputs": [],
   "source": [
    "v1 = 100\n",
    "v2 = 50\n",
    "#calculo de divisão\n",
    "quociente = v1 / v2\n",
    "\n",
    "#calculo do resto da divisão\n",
    "\n",
    "resto = v1 % v2\n",
    "\n",
    "print ('o resultado da divisão é:', quociente)\n",
    "\n",
    "print('o resto da divisão é:', resto)"
   ]
  },
  {
   "cell_type": "markdown",
   "id": "5414c676",
   "metadata": {},
   "source": [
    "Exercício 10 - converter metros para centímetros."
   ]
  },
  {
   "cell_type": "code",
   "execution_count": null,
   "id": "038adbc9",
   "metadata": {},
   "outputs": [],
   "source": [
    "#Solicitar ao usuario um valor em metros\n",
    "\n",
    "metros = input('Digite um valor em metros para converter em cm.')\n",
    "\n",
    "\n",
    "metros = int(metros)\n",
    "type(metros)\n",
    "\n",
    "\n",
    "centimetros = metros * 100\n",
    "\n",
    "print (centimetros)"
   ]
  },
  {
   "cell_type": "markdown",
   "id": "6b8e8794",
   "metadata": {},
   "source": [
    "-------"
   ]
  },
  {
   "cell_type": "markdown",
   "id": "92b7b46e",
   "metadata": {},
   "source": [
    "Exercício 11 - Faça um Programa que peça o raio de um círculo, calcule e mostre sua área."
   ]
  },
  {
   "cell_type": "code",
   "execution_count": 6,
   "id": "9b2e61dc",
   "metadata": {},
   "outputs": [
    {
     "name": "stdout",
     "output_type": "stream",
     "text": [
      "Digite o valor do raio de um circulo 10\n",
      "A área do circulo é: 314.159\n"
     ]
    }
   ],
   "source": [
    "#solicitar ao usuario um valor de raio de um circulo\n",
    "\n",
    "import math\n",
    "\n",
    "raio = input('Digite o valor do raio de um circulo ')\n",
    "raio = int(raio) #raio valor inteiro (não decimal)\n",
    "\n",
    "\n",
    "pi=math.pi\n",
    "\n",
    "area = round(pi * raio** 2,3) #round = arredondamento do numero de casas (3 neste caso)\n",
    "print('A área do circulo é:',area)\n",
    "\n"
   ]
  },
  {
   "cell_type": "markdown",
   "id": "6e56020c",
   "metadata": {},
   "source": [
    "Exercício 12 - Faça um Programa que calcule a área de um quadrado, em seguida mostre o dobro desta área para o usuário."
   ]
  },
  {
   "cell_type": "code",
   "execution_count": 26,
   "id": "3ced929b",
   "metadata": {},
   "outputs": [
    {
     "name": "stdout",
     "output_type": "stream",
     "text": [
      "digite o valor da aresta de um quadrado: 10\n",
      "A aresta do quadrado é : 10.0 mm\n",
      "A area do quadrado é : 100.0 mm²\n",
      "O dobro da area é:  200.0 mm²\n"
     ]
    }
   ],
   "source": [
    "#solicitar ao usuario um valor de aresta de um quadrado\n",
    "\n",
    "aresta = input('digite o valor da aresta de um quadrado: ')\n",
    "aresta = float(aresta) #converter para aresta decimal\n",
    "\n",
    "area = round(aresta**2,3)\n",
    "dobroarea = area * 2\n",
    "print('A aresta do quadrado é :',aresta,'mm')\n",
    "print('A area do quadrado é :',area,'mm²')\n",
    "print ('O dobro da area é: ',dobroarea,'mm²')"
   ]
  },
  {
   "cell_type": "markdown",
   "id": "5d1d071a",
   "metadata": {},
   "source": [
    "Exercício 13 - Faça um Programa que pergunte quanto você ganha por hora e o número de horas trabalhadas no mês. Calcule e mostre o total do seu salário no referido mês."
   ]
  },
  {
   "cell_type": "code",
   "execution_count": null,
   "id": "4d180bb3",
   "metadata": {},
   "outputs": [],
   "source": []
  },
  {
   "cell_type": "code",
   "execution_count": 29,
   "id": "10353be8",
   "metadata": {},
   "outputs": [
    {
     "name": "stdout",
     "output_type": "stream",
     "text": [
      "digite o valor do salario por hora: 25\n",
      "digite o valor do numero de horas trabalhadas no mês: 144\n",
      "recebendo um valor por hora de R$ 3600.0\n",
      "trabalhando 144 horas no mês\n",
      "o salario no referido mês é de R$  3600.0\n"
     ]
    }
   ],
   "source": [
    "#solicitar ao usuario o valor do salario por hora\n",
    "salariohora = input('digite o valor do salario por hora: ')\n",
    "salariohora = float(salariohora) #converter para salario decimal\n",
    "\n",
    "#solicitar ao usuario o numero de horas trabalhadas no mês\n",
    "horasmes = input('digite o valor do numero de horas trabalhadas no mês: ')\n",
    "horasmes = int(horasmes) #converter para horas inteiras\n",
    "\n",
    "salario = salariohora * horasmes\n",
    "print('recebendo um valor por hora de R$', salario)\n",
    "print('trabalhando', horasmes, \"horas no mês\")\n",
    "print('o salario no referido mês é de R$ ', salario)\n"
   ]
  },
  {
   "cell_type": "markdown",
   "id": "c92d1532",
   "metadata": {},
   "source": [
    "Exercício 14 - Faça um Programa que peça a temperatura em graus Fahrenheit, transforme e mostre a temperatura em graus Celsius."
   ]
  },
  {
   "cell_type": "code",
   "execution_count": 37,
   "id": "bbde8214",
   "metadata": {},
   "outputs": [
    {
     "name": "stdout",
     "output_type": "stream",
     "text": [
      "digite o valor da temperatura em graus Fahrenheit: 66\n",
      "a temperatura em graus Celsius é de 18.89 °\n",
      "a temperatura de  66.0 °F equivale a 18.89 °C\n"
     ]
    }
   ],
   "source": [
    "#solicitar ao usuario o valor da temperatura em graus Fahrenheit\n",
    "fahrenheit = input('digite o valor da temperatura em graus Fahrenheit: ')\n",
    "fahrenheit = float(fahrenheit) #converter para temperatura decimal\n",
    "\n",
    "celsius = round((fahrenheit - 32) / 1.8,2)\n",
    "print('a temperatura em graus Celsius é de',celsius,'°' )\n",
    "print('a temperatura de ',fahrenheit, '°F equivale a',celsius,\"°C\")\n",
    "\n"
   ]
  },
  {
   "cell_type": "markdown",
   "id": "27986cc8",
   "metadata": {},
   "source": [
    "Exercício 15 - Faça um Programa que peça a temperatura em graus Celsius, transforme e mostre em graus Fahrenheit."
   ]
  },
  {
   "cell_type": "code",
   "execution_count": 39,
   "id": "dc11b372",
   "metadata": {},
   "outputs": [
    {
     "name": "stdout",
     "output_type": "stream",
     "text": [
      "digite o valor da temperatura em graus celsius: 18.89\n",
      "a temperatura em graus fahrenheit é de 66.0 °\n",
      "a temperatura de  18.89 °F equivale a 66.0 °C\n"
     ]
    }
   ],
   "source": [
    "#solicitar ao usuario o valor da temperatura em graus Fahrenheit\n",
    "celsius = input('digite o valor da temperatura em graus celsius: ')\n",
    "celsius = float(celsius) #converter para temperatura decimal\n",
    "\n",
    "fahrenheit = round((celsius * 1.8) + 32,2)\n",
    "print('a temperatura em graus fahrenheit é de',fahrenheit,'°' )\n",
    "print('a temperatura de ',celsius, '°F equivale a',fahrenheit,\"°C\")"
   ]
  }
 ],
 "metadata": {
  "kernelspec": {
   "display_name": "Python 3 (ipykernel)",
   "language": "python",
   "name": "python3"
  },
  "language_info": {
   "codemirror_mode": {
    "name": "ipython",
    "version": 3
   },
   "file_extension": ".py",
   "mimetype": "text/x-python",
   "name": "python",
   "nbconvert_exporter": "python",
   "pygments_lexer": "ipython3",
   "version": "3.10.9"
  }
 },
 "nbformat": 4,
 "nbformat_minor": 5
}

{
 "cells": [
  {
   "cell_type": "markdown",
   "id": "8f9975de",
   "metadata": {},
   "source": [
    "### Questão 01 \n",
    "-  Escreva um programa que exiba os números de 1 a 10 em ordem crescente.\n",
    "\n"
   ]
  },
  {
   "cell_type": "code",
   "execution_count": 39,
   "id": "10107418",
   "metadata": {},
   "outputs": [
    {
     "name": "stdout",
     "output_type": "stream",
     "text": [
      "1\n",
      "2\n",
      "3\n",
      "4\n",
      "5\n",
      "6\n",
      "7\n",
      "8\n",
      "9\n",
      "10\n"
     ]
    }
   ],
   "source": [
    "#-------------------------------------------FOR\n",
    "\n",
    "numeros = [1,2,3,4,5,6,7,8,9,10]\n",
    "\n",
    "for num in numeros:\n",
    "    print(num)"
   ]
  },
  {
   "cell_type": "code",
   "execution_count": 40,
   "id": "0905a328",
   "metadata": {},
   "outputs": [
    {
     "name": "stdout",
     "output_type": "stream",
     "text": [
      "1\n",
      "2\n",
      "3\n",
      "4\n",
      "5\n",
      "6\n",
      "7\n",
      "8\n",
      "9\n",
      "10\n"
     ]
    }
   ],
   "source": [
    "#-----------------------------------------While\n",
    "i = 0\n",
    "\n",
    "while i <= 9:\n",
    "    i = i+1\n",
    "    print (i)"
   ]
  },
  {
   "cell_type": "markdown",
   "id": "69ef4e10",
   "metadata": {},
   "source": [
    "### Questão 02\n",
    "  Escreva um programa que calcule a média de uma lista de números. A lista deve conter pelo menos 5 números"
   ]
  },
  {
   "cell_type": "code",
   "execution_count": 41,
   "id": "3424c65d",
   "metadata": {},
   "outputs": [
    {
     "name": "stdout",
     "output_type": "stream",
     "text": [
      "A média dos valores é: 6.0\n"
     ]
    }
   ],
   "source": [
    "numeros = [2,4,6,8,10,12]\n",
    "\n",
    "soma = 0\n",
    "\n",
    "for n in numeros:\n",
    "       soma = n + soma  \n",
    "        \n",
    "elementos = len(notas) \n",
    "media = round(soma / elementos,1)\n",
    "\n",
    "print(f'A média dos valores é: {media}')\n"
   ]
  },
  {
   "cell_type": "code",
   "execution_count": 44,
   "id": "fcf72764",
   "metadata": {},
   "outputs": [
    {
     "name": "stdout",
     "output_type": "stream",
     "text": [
      "24.8\n"
     ]
    }
   ],
   "source": [
    "numeros = [10,15,22,33,44]\n",
    "\n",
    "soma = 0\n",
    "qtd_num = 0\n",
    "\n",
    "for n in numeros:\n",
    "    soma += n    #soma = soma + n\n",
    "    qtd_num += 1\n",
    "    \n",
    "    \n",
    "média = soma/qtd_num\n",
    "    \n",
    "print(média)"
   ]
  },
  {
   "cell_type": "markdown",
   "id": "d6c6e42c",
   "metadata": {},
   "source": [
    "### Questão 03 \n",
    "Escreva um programa que gere a sequência de Fibonacci até o décimo termo. A sequência de Fibonacci é formada pela soma dos dois termos anteriores, começando com 0 e 1. A sequência fica assim: 0, 1, 1, 2, 3, 5, 8, 13, 21, 34..."
   ]
  },
  {
   "cell_type": "code",
   "execution_count": 51,
   "id": "6f9e5ef7",
   "metadata": {},
   "outputs": [
    {
     "name": "stdout",
     "output_type": "stream",
     "text": [
      "[0, 1, 1, 2, 3, 5, 8, 13, 21, 34, 55, 89]\n"
     ]
    }
   ],
   "source": [
    "termos =  10\n",
    "\n",
    "serief = [0] \n",
    "\n",
    "i=0\n",
    "\n",
    "while i <= termos:  \n",
    "    \n",
    "    \n",
    "    if serief[0] == 0 and i==0:   \n",
    "        serief.append(1)\n",
    "        \n",
    "    else:\n",
    "        a = serief[i] + serief[i-1] \n",
    "        serief.append(a)                          \n",
    "        \n",
    "    i = i + 1\n",
    "print(serief)      "
   ]
  },
  {
   "cell_type": "code",
   "execution_count": 52,
   "id": "e3623836",
   "metadata": {},
   "outputs": [
    {
     "name": "stdout",
     "output_type": "stream",
     "text": [
      "[0, 1, 1, 2, 3, 5, 8, 13, 21, 34]\n"
     ]
    }
   ],
   "source": [
    "termos =  10\n",
    "\n",
    "serief = [0] \n",
    "\n",
    "i=0\n",
    "\n",
    "while i <= termos:  \n",
    "    if len (serief) == 10:\n",
    "        break\n",
    "    \n",
    "    if serief[0] == 0 and i==0:   \n",
    "        serief.append(1)\n",
    "        \n",
    "    else:\n",
    "        a = serief[i] + serief[i-1] \n",
    "        serief.append(a)                          \n",
    "        \n",
    "    i = i + 1\n",
    "print(serief)   "
   ]
  },
  {
   "cell_type": "markdown",
   "id": "953b0481",
   "metadata": {},
   "source": [
    "### Questão 04 \n",
    "-  Escreva um programa que leia um número inteiro positivo n do usuário e exiba a soma de todos os números de 1 até n."
   ]
  },
  {
   "cell_type": "code",
   "execution_count": 56,
   "id": "01604072",
   "metadata": {},
   "outputs": [
    {
     "name": "stdout",
     "output_type": "stream",
     "text": [
      "digite o numrero: 10\n",
      "[1, 2, 3, 4, 5, 6, 7, 8, 9, 10]\n",
      "55\n",
      "55\n"
     ]
    }
   ],
   "source": [
    "num = int(input('digite o numrero: ')) # o numero limite\n",
    "\n",
    "numeros = []\n",
    "\n",
    "i = 1\n",
    "\n",
    "while i <= num:\n",
    "    if i != 0:\n",
    "        numeros.append(i)\n",
    "    i = i + 1\n",
    "print(numeros)\n",
    "soma = sum(numeros)\n",
    "print(soma)\n",
    "    \n",
    " #-----------------------------------------------\n",
    "    \n",
    "print('------------------------------------------------------------------------') \n",
    "    \n",
    "    \n"
   ]
  },
  {
   "cell_type": "code",
   "execution_count": 60,
   "id": "c479fb67",
   "metadata": {},
   "outputs": [
    {
     "name": "stdout",
     "output_type": "stream",
     "text": [
      "digite o numrero: 10\n",
      "55\n",
      "55\n"
     ]
    }
   ],
   "source": [
    "n = int(input('digite o numrero: '))\n",
    "i = 0\n",
    "soma = 0 \n",
    "\n",
    "while i <= n:\n",
    "    soma += i\n",
    "    i += 1\n",
    "print(soma)\n",
    "\n",
    "\n",
    " \n",
    "    \n",
    "print(soma)"
   ]
  },
  {
   "cell_type": "markdown",
   "id": "d0b5233b",
   "metadata": {},
   "source": [
    "### Questão 05 \n",
    "Escreva um programa que receba uma lista de números do usuário e exiba apenas os números pares presentes na lista e sua respectiva quantidade."
   ]
  },
  {
   "cell_type": "code",
   "execution_count": 71,
   "id": "ed4f6599",
   "metadata": {},
   "outputs": [
    {
     "name": "stdout",
     "output_type": "stream",
     "text": [
      "Digite um valor, ou [s] para sair.4\n",
      "Digite um valor, ou [s] para sair.6\n",
      "Digite um valor, ou [s] para sair.8\n",
      "Digite um valor, ou [s] para sair.2\n",
      "Digite um valor, ou [s] para sair.3\n",
      "Digite um valor, ou [s] para sair.s\n",
      "[4, 6, 8, 2]\n"
     ]
    }
   ],
   "source": [
    "\n",
    "\n",
    "resp = input('Digite um valor, ou [s] para sair.')\n",
    "lista = []\n",
    "\n",
    "numeros = []\n",
    "qtd = 0\n",
    "\n",
    "while resp.lower() != 's':\n",
    "    \n",
    "    lista.append(int(resp))\n",
    "    resp = input('Digite um valor, ou [s] para sair.')\n",
    "\n",
    "\n",
    "for x in lista:\n",
    "    if x % 2 == 0 and x != 0:\n",
    "        numeros.append(x)\n",
    "    qtd +=1  \n",
    "        \n",
    "print(numeros)"
   ]
  },
  {
   "cell_type": "markdown",
   "id": "2e6a10ae",
   "metadata": {},
   "source": [
    "### Questão 06 \n",
    "Escreva um programa que leia uma lista de números do usuário e determine a soma, média, o maior valor e o menor valor da lista."
   ]
  },
  {
   "cell_type": "code",
   "execution_count": 76,
   "id": "dd713349",
   "metadata": {},
   "outputs": [
    {
     "name": "stdout",
     "output_type": "stream",
     "text": [
      "Digite um valor, ou [s] para sair.1\n",
      "Digite um valor, ou [s] para sair.2\n",
      "Digite um valor, ou [s] para sair.3\n",
      "Digite um valor, ou [s] para sair.4\n",
      "Digite um valor, ou [s] para sair.s\n",
      "a Soma é 10, a média é 2.5,\n",
      " o maior valor 4, menor valor1\n"
     ]
    }
   ],
   "source": [
    "resp = input('Digite um valor, ou [s] para sair.')\n",
    "lista = []\n",
    "\n",
    "numeros = []\n",
    "qtd = 0\n",
    "\n",
    "while resp.lower() != 's':\n",
    "    \n",
    "    lista.append(int(resp))\n",
    "    resp = input('Digite um valor, ou [s] para sair.')\n",
    "    \n",
    "soma = sum(lista)\n",
    "media = soma/len(lista)\n",
    "maximo = max(lista)\n",
    "minimo = min(lista)\n",
    "\n",
    "print(f'a Soma é {soma}, a média é {media},\\n o maior valor {maximo}, menor valor{minimo}')"
   ]
  }
 ],
 "metadata": {
  "kernelspec": {
   "display_name": "Python 3 (ipykernel)",
   "language": "python",
   "name": "python3"
  },
  "language_info": {
   "codemirror_mode": {
    "name": "ipython",
    "version": 3
   },
   "file_extension": ".py",
   "mimetype": "text/x-python",
   "name": "python",
   "nbconvert_exporter": "python",
   "pygments_lexer": "ipython3",
   "version": "3.10.9"
  }
 },
 "nbformat": 4,
 "nbformat_minor": 5
}

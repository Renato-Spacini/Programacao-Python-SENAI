{
 "cells": [
  {
   "cell_type": "markdown",
   "id": "9d730a83",
   "metadata": {},
   "source": [
    "#### Exercício 14 \n",
    "Faça um programa que peça 10 números inteiros, calcule e mostre a\n",
    "quantidade de números pares e a quantidade de números ímpares."
   ]
  },
  {
   "cell_type": "code",
   "execution_count": 8,
   "id": "7744e448",
   "metadata": {},
   "outputs": [
    {
     "name": "stdout",
     "output_type": "stream",
     "text": [
      "digite o numrero: 2\n",
      "digite o numrero: 4\n",
      "digite o numrero: 6\n",
      "digite o numrero: 8\n",
      "digite o numrero: 10\n",
      "digite o numrero: 12\n",
      "digite o numrero: 3\n",
      "digite o numrero: 5\n",
      "digite o numrero: 7\n",
      "digite o numrero: 9\n",
      "na lista[2, 4, 6, 8, 10, 12, 3, 5, 7, 9],\n",
      "foram localizados 6 numeros pares\n",
      "foram localizados 4 numeros impares\n"
     ]
    }
   ],
   "source": [
    "numeros = []\n",
    "#----------------------------------solicitar os numeros para o usuario\n",
    "i = 1\n",
    "\n",
    "while i <= 10:\n",
    "    num = int(input('digite o numrero: '))\n",
    "    numeros.append(num)\n",
    "    \n",
    "    i = i + 1\n",
    "    \n",
    "#------------------------------------calcaular a quantidade d numeros pare e numeros impares\n",
    "par = 0\n",
    "impar = 0\n",
    "\n",
    "for verif in numeros:\n",
    "    if verif % 2 == 0:\n",
    "        par = par + 1 #-------Variavel acumuludadora\n",
    "    else:\n",
    "        impar = impar + 1\n",
    "\n",
    "print(f'na lista {numeros},')\n",
    "print(f'foram localizados {par} numeros pares')\n",
    "print(f'foram localizados {impar} numeros impares')"
   ]
  },
  {
   "cell_type": "markdown",
   "id": "ce52459f",
   "metadata": {},
   "source": [
    "### Exercício 15 \n",
    "A série de Fibonacci é formada pela sequência 1,1,2,3,5,8,13,21,34,55,...\n",
    "Faça um programa capaz de gerar a série até o enésimo termo."
   ]
  },
  {
   "cell_type": "code",
   "execution_count": 47,
   "id": "6fe4f841",
   "metadata": {},
   "outputs": [
    {
     "name": "stdout",
     "output_type": "stream",
     "text": [
      "digite a quantidade de termos para se gerar a serie: 18\n",
      "[1, 1, 2, 3, 5, 8, 13, 21, 34, 55, 89, 144, 233, 377, 610, 987, 1597, 2584, 4181, 6765]\n"
     ]
    }
   ],
   "source": [
    "        \n",
    "qtd_num =  int(input('digite a quantidade de termos para se gerar a serie: '))\n",
    "\n",
    "serief = [1] # A série de fibonacci sempre inicia com 1\n",
    "\n",
    "i=0\n",
    "\n",
    "while i <= qtd_num:  # Repetir o bloco até o valor de i ser igual a qtd_num\n",
    "    \n",
    "    if serief[0] == 1 and i==0: #---serief[0] chama o primeiro elemento da lista em colchetes    \n",
    "        serief.append(1)\n",
    "        \n",
    "    else:\n",
    "        a = serief[i] + serief[i-1] # o [i] é a posição na lista (contador), \n",
    "        serief.append(a)                            # logo este calculo esta somando a posição \n",
    "                                    # do item na lista com a diferença da posição menos 1.\n",
    "                                    # é um calculo que esta utilizando a posição dos itens na lista para poder executar a operação\n",
    "    \n",
    "        \n",
    "    i = i + 1\n",
    "print(serief)       "
   ]
  },
  {
   "cell_type": "markdown",
   "id": "4a799384",
   "metadata": {},
   "source": [
    "### Exercício 16 \n",
    "A série de Fibonacci é formada pela sequência\n",
    "0,1,1,2,3,5,8,13,21,34,55,... Faça um programa que gere a série até que o valor seja\n",
    "maior que 500."
   ]
  },
  {
   "cell_type": "code",
   "execution_count": 59,
   "id": "b31ef3d7",
   "metadata": {},
   "outputs": [
    {
     "name": "stdout",
     "output_type": "stream",
     "text": [
      "[1, 1, 2, 3, 5, 8, 13, 21, 34, 55, 89, 144, 233, 377]\n"
     ]
    }
   ],
   "source": [
    "serief = [1,1] \n",
    "\n",
    "while serief[-1] <= 500: #verifica se o ultimo elemento é menor do que 500\n",
    "    \n",
    "    a = serief[-1] + serief[-2] # somando o ultimo elemento + o penultimo elemento\n",
    "    \n",
    "    if a > 500:\n",
    "        break # sair do laço de repetição\n",
    "        \n",
    "    serief.append(a)\n",
    "\n",
    "print(serief)"
   ]
  },
  {
   "cell_type": "markdown",
   "id": "eb336168",
   "metadata": {},
   "source": [
    "### Exercício 24 - \n",
    "Faça um programa que calcule o mostre a média aritmética de N notas."
   ]
  },
  {
   "cell_type": "code",
   "execution_count": 62,
   "id": "50c20d64",
   "metadata": {},
   "outputs": [
    {
     "name": "stdout",
     "output_type": "stream",
     "text": [
      "A média dos valores é: 6.9\n"
     ]
    }
   ],
   "source": [
    "notas = [10,8.5,9,3,4]\n",
    "\n",
    "soma = 0\n",
    "\n",
    "for n in notas:\n",
    "       soma = n + soma  #somar os elementos\n",
    "        \n",
    "elementos = len(notas) #tamnaho da lista\n",
    "media = round(soma / elementos,1)\n",
    "\n",
    "print(f'A média dos valores é: {media}')"
   ]
  },
  {
   "cell_type": "markdown",
   "id": "8b0ebef1",
   "metadata": {},
   "source": [
    "digitar numeros até receber um comando para parar, e então calcular a média dos numeros digitados"
   ]
  },
  {
   "cell_type": "code",
   "execution_count": 63,
   "id": "44ce4f23",
   "metadata": {},
   "outputs": [
    {
     "name": "stdout",
     "output_type": "stream",
     "text": [
      "Digite a nota. (para sair digite S)5\n",
      "Digite a nota. (para sair digite S)6\n",
      "Digite a nota. (para sair digite S)7\n",
      "Digite a nota. (para sair digite S)s\n",
      "A média dos valores é: 6.0\n"
     ]
    }
   ],
   "source": [
    "notas = []\n",
    "\n",
    "#------------------------solicitação de valores/ add na lista\n",
    "\n",
    "entrada = input('Digite a nota. (para sair digite S)')\n",
    "\n",
    "while entrada. lower() != 's': # Enquanto não for S, faça\n",
    "    \n",
    "    notas.append(float(entrada))\n",
    "    entrada = input('Digite a nota. (para sair digite S)')\n",
    "    \n",
    "#---------------------Média   \n",
    "\n",
    "soma = 0\n",
    "\n",
    "for n in notas:\n",
    "       soma = n + soma  #somar os elementos\n",
    "        \n",
    "elementos = len(notas) #tamnaho da lista\n",
    "media = round(soma / elementos,1)\n",
    "\n",
    "print(f'A média dos valores é: {media}')"
   ]
  }
 ],
 "metadata": {
  "kernelspec": {
   "display_name": "Python 3 (ipykernel)",
   "language": "python",
   "name": "python3"
  },
  "language_info": {
   "codemirror_mode": {
    "name": "ipython",
    "version": 3
   },
   "file_extension": ".py",
   "mimetype": "text/x-python",
   "name": "python",
   "nbconvert_exporter": "python",
   "pygments_lexer": "ipython3",
   "version": "3.10.9"
  }
 },
 "nbformat": 4,
 "nbformat_minor": 5
}

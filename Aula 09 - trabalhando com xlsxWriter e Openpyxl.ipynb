{
 "cells": [
  {
   "cell_type": "code",
   "execution_count": 18,
   "id": "aae72015",
   "metadata": {},
   "outputs": [],
   "source": [
    "#--------------------------Importar a bibliotecas\n",
    "import xlsxwriter as xlsx\n",
    "import os\n",
    "\n",
    "#-----------------------------caminho e arquivo\n",
    "caminho = 'C:\\\\Users\\\\FIC\\\\Documents\\\\RSC_Python\\\\'\n",
    "arquivo = 'Exemplo 03.xlsx' #cria uma nova pasta de trabalho\n",
    "workbook = xlsx.Workbook(caminho+arquivo)\n",
    "\n",
    "#---------------------adicionar uma planilha (aba) ao documento\n",
    "sheetDados = workbook.add_worksheet('Dados')\n",
    "\n",
    "#----------------------modificando a cor de fundo das células\n",
    "\n",
    "higherFormat = workbook.add_format({'bg_color':'#E2FDA',\n",
    "                                  'font_color':'green',\n",
    "                                  'bold':True\n",
    "                                  })\n",
    "\n",
    "lowerFormat = workbook.add_format({'bg_color':'#F8CBAD',\n",
    "                                  'font_color':'red',\n",
    "                                  'bold':True\n",
    "                                  })\n",
    "#-------------------------------------criar um modelo de dados para aplicar a formatação\n",
    "\n",
    "dados = [\n",
    "    ['Coluna1','Coluna2','Coluna3','Coluna4'],\n",
    "    [10,20,30,40],\n",
    "    [36,87,100,25],\n",
    "    [78,98,2,5],\n",
    "    [74,25,63,12]\n",
    "]\n",
    "\n",
    "for linha, listas in enumerate(dados):           #enumerate gera uma numeração para os itens da lista\n",
    "    sheetDados.write_row(linha+1,1,listas)\n",
    " \n",
    " \n",
    "sheetDados.conditional_format('A1:D5',{'type':'cell',\n",
    "                                      'criteria':'<=',\n",
    "                                      'value':50,\n",
    "                                      'format':higherFormat})\n",
    "    \n",
    "    \n",
    "sheetDados.conditional_format('A1:D5',{'type':'cell',\n",
    "                                      'criteria':'<',\n",
    "                                      'value':50,\n",
    "                                      'format':lowerFormat})    \n",
    "  \n",
    "    \n",
    "    \n",
    "#-----------------------------------------------------Fechar o documento e salvar\n",
    "workbook.close()\n",
    "#----------------------------------------------------Abrir documento\n",
    "os.startfile(caminho+arquivo)"
   ]
  }
 ],
 "metadata": {
  "kernelspec": {
   "display_name": "Python 3 (ipykernel)",
   "language": "python",
   "name": "python3"
  },
  "language_info": {
   "codemirror_mode": {
    "name": "ipython",
    "version": 3
   },
   "file_extension": ".py",
   "mimetype": "text/x-python",
   "name": "python",
   "nbconvert_exporter": "python",
   "pygments_lexer": "ipython3",
   "version": "3.10.9"
  }
 },
 "nbformat": 4,
 "nbformat_minor": 5
}

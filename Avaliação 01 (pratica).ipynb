{
 "cells": [
  {
   "cell_type": "markdown",
   "id": "95d46c42",
   "metadata": {},
   "source": [
    "### Código 06 - Escreva um programa que solicite ao usuário o nome de um mês e verifique se ele corresponde a um mês de verão (dezembro, janeiro ou fevereiro). Em seguida, exiba a mensagem correspondente.\n",
    "\n"
   ]
  },
  {
   "cell_type": "code",
   "execution_count": null,
   "id": "1e32cc85",
   "metadata": {},
   "outputs": [],
   "source": [
    "mes = input('digite o nome de um mês')\n",
    "\n",
    "if mes == 'dezembro':\n",
    "    print(mes,'é um mês da estação verão')\n",
    "\n",
    "elif mes == 'janeiro':\n",
    "    print(mes,'é um mês da estação verão')\n",
    "    \n",
    "elif mes == 'fevereiro':\n",
    "    print(mes,'é um mês da estação verão')\n",
    "    \n",
    "else:\n",
    "    print(mes, 'não é um mês da estação verão')\n",
    "\n",
    "\n"
   ]
  },
  {
   "cell_type": "markdown",
   "id": "613cbdf4",
   "metadata": {},
   "source": [
    "### Código 01 - Escreva um programa que solicite ao usuário um número inteiro e verifique se ele é um número positivo. Em seguida, exiba a mensagem correspondente.\n"
   ]
  },
  {
   "cell_type": "code",
   "execution_count": null,
   "id": "139e7d7c",
   "metadata": {},
   "outputs": [],
   "source": [
    "num = int(input('digite um numero: '))\n",
    "\n",
    "#------------------------verificação de numero positivo\n",
    "\n",
    "if num > 0:\n",
    "    print(num, 'é um numero positivo')\n",
    "    \n",
    "elif num < 0:\n",
    "    print(num,' não é um numero positivo')"
   ]
  },
  {
   "cell_type": "markdown",
   "id": "18ee978f",
   "metadata": {},
   "source": [
    "### Código 04 - Escreva um programa que solicite ao usuário um número inteiro e verifique se ele é um número perfeito. Um número perfeito é aquele cuja soma dos seus divisores (excluindo ele mesmo) é igual ao próprio número. Por exemplo, 6 é um número perfeito, pois seus divisores são 1, 2 e 3, e 1 + 2 + 3 = 6."
   ]
  },
  {
   "cell_type": "code",
   "execution_count": null,
   "id": "bf6dfa33",
   "metadata": {},
   "outputs": [],
   "source": [
    "num = int(input('digite um numero:'))\n",
    "\n",
    "if (num %"
   ]
  },
  {
   "cell_type": "markdown",
   "id": "95894949",
   "metadata": {},
   "source": [
    "### Código 03 -  Escreva um programa que solicite ao usuário a idade de uma pessoa e verifique se ela é maior de idade (idade igual ou superior a 18) e se possui carteira de motorista. Em seguida, exiba a mensagem correspondente."
   ]
  },
  {
   "cell_type": "code",
   "execution_count": null,
   "id": "aa6668b0",
   "metadata": {},
   "outputs": [],
   "source": [
    "idade = int(input('digite a idade da pessoa:'))\n",
    "\n",
    "if idade >= 18:\n",
    "    print('A idade de', idade, 'anos é considerada maior de idade')\n",
    "    print('A pessoa possui carteira de motorista? ')\n",
    "    \n",
    "else:\n",
    "    print('A pessoa não é maior de idade')\n",
    "    \n",
    "    \n",
    "    "
   ]
  },
  {
   "cell_type": "markdown",
   "id": "91244c9a",
   "metadata": {},
   "source": [
    "### Código 08 - Faça um Programa que leia três números e mostre o maior e o menor deles."
   ]
  },
  {
   "cell_type": "code",
   "execution_count": null,
   "id": "2505fb61",
   "metadata": {},
   "outputs": [],
   "source": [
    "num1 = int(input('digite o primeiro valor: '))\n",
    "num2 = int(input('digite o segundo valor: '))\n",
    "num3 = int(input('digite o terceiro valor: '))\n",
    "\n",
    "if (num1 > num2) and (num1 > num3): #------------------------------------------------avaliando o numero 1\n",
    "    if num2 > num3:\n",
    "        print('---------------------------------------')\n",
    "        print('o maior valor é: ',num1)\n",
    "        print('o menor valor é: ',num3)\n",
    "        print('---------------------------------------')\n",
    "    else:\n",
    "        print('---------------------------------------')\n",
    "        print('o maior valor é: ',num1)\n",
    "        print('o menor valor é: ',num2)\n",
    "        print('---------------------------------------')\n",
    "        \n",
    "elif (num2 > num1) and (num2 > num3): #------------------------------------------------avaliando o numero 2\n",
    "    if num1 > num3:\n",
    "        print('---------------------------------------')\n",
    "        print('o maior valor é: ',num2)\n",
    "        print('o menor valor é: ',num3)\n",
    "        print('---------------------------------------')\n",
    "    else:\n",
    "        print('---------------------------------------')\n",
    "        print('o maior valor é: ',num2)\n",
    "        print('o menor valor é: ',num1)\n",
    "        print('---------------------------------------')\n",
    "        \n",
    "elif (num3 > num1) and (num3 > num2): #------------------------------------------------avaliando o numero 3\n",
    "    if num1 > num2:\n",
    "        print('---------------------------------------')\n",
    "        print('o maior valor é: ',num3)\n",
    "        print('o menor valor é: ',num2)\n",
    "        print('---------------------------------------')\n",
    "    else:\n",
    "        print('---------------------------------------')\n",
    "        print('o maior valor é: ',num3)\n",
    "        print('o menor valor é: ',num1)\n",
    "        print('---------------------------------------')"
   ]
  },
  {
   "cell_type": "markdown",
   "id": "772ce508",
   "metadata": {},
   "source": [
    "### Código 05 -  Escreva um programa que solicite ao usuário um número inteiro e verifique se ele é um número primo. Em seguida, exiba a mensagem correspondente. (Reutilize a questão anterior ou elabore um código diferente)."
   ]
  },
  {
   "cell_type": "code",
   "execution_count": null,
   "id": "5f5ca6d3",
   "metadata": {},
   "outputs": [],
   "source": [
    "num = int(input('digite um numero: '))\n",
    "\n",
    "if (num % 2 == 0) and (num % num ==0):\n",
    "    print(num,'é um numero primo')\n",
    "else:\n",
    "    print(num,'não é um numero primo')"
   ]
  },
  {
   "cell_type": "markdown",
   "id": "85942137",
   "metadata": {},
   "source": [
    "### Código 09 - Faça um Programa que leia 2 números e em seguida pergunte ao usuário qual operação ele deseja realizar. O resultado da operação deve ser acompanhado de uma frase que diga se o número é:\n",
    "·        par ou ímpar;\n",
    "\n",
    "·        positivo ou negativo;\n",
    "\n",
    "·        inteiro ou decimal"
   ]
  },
  {
   "cell_type": "code",
   "execution_count": null,
   "id": "e3eefda5",
   "metadata": {},
   "outputs": [],
   "source": [
    "num1 = int(input('digite o primeiro valor: '))\n",
    "num2 = int(input('digite o segundo valor: '))\n",
    "\n",
    "print('qual é a operação que se deseja realizar?')"
   ]
  },
  {
   "cell_type": "markdown",
   "id": "cf555f46",
   "metadata": {},
   "source": [
    "### Código 07 -  Escreva um programa que solicite ao usuário um número inteiro e verifique se ele é um quadrado perfeito. Um número é considerado um quadrado perfeito quando sua raiz quadrada é um número inteiro."
   ]
  },
  {
   "cell_type": "code",
   "execution_count": 9,
   "id": "28493437",
   "metadata": {},
   "outputs": [
    {
     "ename": "SyntaxError",
     "evalue": "invalid syntax. Maybe you meant '==' or ':=' instead of '='? (1858396719.py, line 5)",
     "output_type": "error",
     "traceback": [
      "\u001b[1;36m  Cell \u001b[1;32mIn[9], line 5\u001b[1;36m\u001b[0m\n\u001b[1;33m    if perfeito = int\u001b[0m\n\u001b[1;37m       ^\u001b[0m\n\u001b[1;31mSyntaxError\u001b[0m\u001b[1;31m:\u001b[0m invalid syntax. Maybe you meant '==' or ':=' instead of '='?\n"
     ]
    }
   ],
   "source": [
    "num = int(input('digite um numero: '))\n",
    "\n",
    "perfeito = num**(0.5)\n",
    "\n",
    "if perfeito = int\n",
    "    print(num, 'é um numero perfeito')\n"
   ]
  }
 ],
 "metadata": {
  "kernelspec": {
   "display_name": "Python 3 (ipykernel)",
   "language": "python",
   "name": "python3"
  },
  "language_info": {
   "codemirror_mode": {
    "name": "ipython",
    "version": 3
   },
   "file_extension": ".py",
   "mimetype": "text/x-python",
   "name": "python",
   "nbconvert_exporter": "python",
   "pygments_lexer": "ipython3",
   "version": "3.10.9"
  }
 },
 "nbformat": 4,
 "nbformat_minor": 5
}

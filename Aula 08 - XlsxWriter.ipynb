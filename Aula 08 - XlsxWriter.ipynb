{
 "cells": [
  {
   "cell_type": "code",
   "execution_count": 8,
   "id": "d97b992f",
   "metadata": {},
   "outputs": [],
   "source": [
    "# criar e manipular arquivos em excel\n",
    "import xlsxwriter as xlsx\n",
    "#Gerenciar arquivos no sistema operacinal\n",
    "import os \n",
    "\n",
    "#-------------------------------------------------------Gerar um caminho e uma arquivo\n",
    "\n",
    "caminho = 'C:\\\\Users\\\\FIC\\\\Documents\\\\RSC_Python\\\\'\n",
    "arquivo = 'exemplo-1.xlsx'\n",
    "#------------------------------------------------------criar documento em excel\n",
    "workbook = xlsx.Workbook(caminho+arquivo)\n",
    "sheet = workbook.add_worksheet()\n",
    "#------------------------------------------------------escrever nas células\n",
    "sheet.write('A1','Nome')\n",
    "sheet.write('A2','Eduardo')\n",
    "sheet.write('A3','Julia')\n",
    "sheet.write('A4','Jose')\n",
    "sheet.write('A5','Jacqueline')\n",
    "#---------------------------------------------------Fechar o arquivo e salvar\n",
    "\n",
    "workbook.close()\n",
    "\n",
    "#--------------------------------------------------Abrir documento\n",
    "\n",
    "os.startfile(caminho+arquivo)\n",
    "\n",
    "\n"
   ]
  },
  {
   "cell_type": "markdown",
   "id": "990d3367",
   "metadata": {},
   "source": [
    "Exemplo 2 - Aplicando Formatação"
   ]
  },
  {
   "cell_type": "code",
   "execution_count": 24,
   "id": "beecb7cf",
   "metadata": {},
   "outputs": [
    {
     "ename": "FileCreateError",
     "evalue": "[Errno 13] Permission denied: 'C:\\\\Users\\\\FIC\\\\Documents\\\\RSC_Python\\\\exemplo-2.xlsx'",
     "output_type": "error",
     "traceback": [
      "\u001b[1;31m---------------------------------------------------------------------------\u001b[0m",
      "\u001b[1;31mPermissionError\u001b[0m                           Traceback (most recent call last)",
      "File \u001b[1;32m~\\anaconda3\\lib\\site-packages\\xlsxwriter\\workbook.py:322\u001b[0m, in \u001b[0;36mWorkbook.close\u001b[1;34m(self)\u001b[0m\n\u001b[0;32m    321\u001b[0m \u001b[38;5;28;01mtry\u001b[39;00m:\n\u001b[1;32m--> 322\u001b[0m     \u001b[38;5;28;43mself\u001b[39;49m\u001b[38;5;241;43m.\u001b[39;49m\u001b[43m_store_workbook\u001b[49m\u001b[43m(\u001b[49m\u001b[43m)\u001b[49m\n\u001b[0;32m    323\u001b[0m \u001b[38;5;28;01mexcept\u001b[39;00m \u001b[38;5;167;01mIOError\u001b[39;00m \u001b[38;5;28;01mas\u001b[39;00m e:\n",
      "File \u001b[1;32m~\\anaconda3\\lib\\site-packages\\xlsxwriter\\workbook.py:667\u001b[0m, in \u001b[0;36mWorkbook._store_workbook\u001b[1;34m(self)\u001b[0m\n\u001b[0;32m    666\u001b[0m \u001b[38;5;28;01mexcept\u001b[39;00m \u001b[38;5;167;01mIOError\u001b[39;00m \u001b[38;5;28;01mas\u001b[39;00m e:\n\u001b[1;32m--> 667\u001b[0m     \u001b[38;5;28;01mraise\u001b[39;00m e\n\u001b[0;32m    669\u001b[0m \u001b[38;5;66;03m# Assemble worksheets into a workbook.\u001b[39;00m\n",
      "File \u001b[1;32m~\\anaconda3\\lib\\site-packages\\xlsxwriter\\workbook.py:660\u001b[0m, in \u001b[0;36mWorkbook._store_workbook\u001b[1;34m(self)\u001b[0m\n\u001b[0;32m    659\u001b[0m \u001b[38;5;28;01mtry\u001b[39;00m:\n\u001b[1;32m--> 660\u001b[0m     xlsx_file \u001b[38;5;241m=\u001b[39m \u001b[43mZipFile\u001b[49m\u001b[43m(\u001b[49m\n\u001b[0;32m    661\u001b[0m \u001b[43m        \u001b[49m\u001b[38;5;28;43mself\u001b[39;49m\u001b[38;5;241;43m.\u001b[39;49m\u001b[43mfilename\u001b[49m\u001b[43m,\u001b[49m\n\u001b[0;32m    662\u001b[0m \u001b[43m        \u001b[49m\u001b[38;5;124;43m\"\u001b[39;49m\u001b[38;5;124;43mw\u001b[39;49m\u001b[38;5;124;43m\"\u001b[39;49m\u001b[43m,\u001b[49m\n\u001b[0;32m    663\u001b[0m \u001b[43m        \u001b[49m\u001b[43mcompression\u001b[49m\u001b[38;5;241;43m=\u001b[39;49m\u001b[43mZIP_DEFLATED\u001b[49m\u001b[43m,\u001b[49m\n\u001b[0;32m    664\u001b[0m \u001b[43m        \u001b[49m\u001b[43mallowZip64\u001b[49m\u001b[38;5;241;43m=\u001b[39;49m\u001b[38;5;28;43mself\u001b[39;49m\u001b[38;5;241;43m.\u001b[39;49m\u001b[43mallow_zip64\u001b[49m\u001b[43m,\u001b[49m\n\u001b[0;32m    665\u001b[0m \u001b[43m    \u001b[49m\u001b[43m)\u001b[49m\n\u001b[0;32m    666\u001b[0m \u001b[38;5;28;01mexcept\u001b[39;00m \u001b[38;5;167;01mIOError\u001b[39;00m \u001b[38;5;28;01mas\u001b[39;00m e:\n",
      "File \u001b[1;32m~\\anaconda3\\lib\\zipfile.py:1249\u001b[0m, in \u001b[0;36mZipFile.__init__\u001b[1;34m(self, file, mode, compression, allowZip64, compresslevel, strict_timestamps)\u001b[0m\n\u001b[0;32m   1248\u001b[0m \u001b[38;5;28;01mtry\u001b[39;00m:\n\u001b[1;32m-> 1249\u001b[0m     \u001b[38;5;28mself\u001b[39m\u001b[38;5;241m.\u001b[39mfp \u001b[38;5;241m=\u001b[39m \u001b[43mio\u001b[49m\u001b[38;5;241;43m.\u001b[39;49m\u001b[43mopen\u001b[49m\u001b[43m(\u001b[49m\u001b[43mfile\u001b[49m\u001b[43m,\u001b[49m\u001b[43m \u001b[49m\u001b[43mfilemode\u001b[49m\u001b[43m)\u001b[49m\n\u001b[0;32m   1250\u001b[0m \u001b[38;5;28;01mexcept\u001b[39;00m \u001b[38;5;167;01mOSError\u001b[39;00m:\n",
      "\u001b[1;31mPermissionError\u001b[0m: [Errno 13] Permission denied: 'C:\\\\Users\\\\FIC\\\\Documents\\\\RSC_Python\\\\exemplo-2.xlsx'",
      "\nDuring handling of the above exception, another exception occurred:\n",
      "\u001b[1;31mFileCreateError\u001b[0m                           Traceback (most recent call last)",
      "Cell \u001b[1;32mIn[24], line 34\u001b[0m\n\u001b[0;32m     32\u001b[0m sheetDados\u001b[38;5;241m.\u001b[39mwrite(\u001b[38;5;124m'\u001b[39m\u001b[38;5;124mB5\u001b[39m\u001b[38;5;124m'\u001b[39m,\u001b[38;5;124m'\u001b[39m\u001b[38;5;124m33\u001b[39m\u001b[38;5;124m'\u001b[39m,corfonte)\n\u001b[0;32m     33\u001b[0m \u001b[38;5;66;03m#-----------------------------------------------------Fechar o documento e salvar\u001b[39;00m\n\u001b[1;32m---> 34\u001b[0m \u001b[43mworkbook\u001b[49m\u001b[38;5;241;43m.\u001b[39;49m\u001b[43mclose\u001b[49m\u001b[43m(\u001b[49m\u001b[43m)\u001b[49m\n\u001b[0;32m     35\u001b[0m \u001b[38;5;66;03m#----------------------------------------------------Abrir documento\u001b[39;00m\n\u001b[0;32m     36\u001b[0m os\u001b[38;5;241m.\u001b[39mstartfile(caminho\u001b[38;5;241m+\u001b[39marquivo)\n",
      "File \u001b[1;32m~\\anaconda3\\lib\\site-packages\\xlsxwriter\\workbook.py:324\u001b[0m, in \u001b[0;36mWorkbook.close\u001b[1;34m(self)\u001b[0m\n\u001b[0;32m    322\u001b[0m     \u001b[38;5;28mself\u001b[39m\u001b[38;5;241m.\u001b[39m_store_workbook()\n\u001b[0;32m    323\u001b[0m \u001b[38;5;28;01mexcept\u001b[39;00m \u001b[38;5;167;01mIOError\u001b[39;00m \u001b[38;5;28;01mas\u001b[39;00m e:\n\u001b[1;32m--> 324\u001b[0m     \u001b[38;5;28;01mraise\u001b[39;00m FileCreateError(e)\n\u001b[0;32m    325\u001b[0m \u001b[38;5;28;01mexcept\u001b[39;00m LargeZipFile:\n\u001b[0;32m    326\u001b[0m     \u001b[38;5;28;01mraise\u001b[39;00m FileSizeError(\n\u001b[0;32m    327\u001b[0m         \u001b[38;5;124m\"\u001b[39m\u001b[38;5;124mFilesize would require ZIP64 extensions. \u001b[39m\u001b[38;5;124m\"\u001b[39m\n\u001b[0;32m    328\u001b[0m         \u001b[38;5;124m\"\u001b[39m\u001b[38;5;124mUse workbook.use_zip64().\u001b[39m\u001b[38;5;124m\"\u001b[39m\n\u001b[0;32m    329\u001b[0m     )\n",
      "\u001b[1;31mFileCreateError\u001b[0m: [Errno 13] Permission denied: 'C:\\\\Users\\\\FIC\\\\Documents\\\\RSC_Python\\\\exemplo-2.xlsx'"
     ]
    }
   ],
   "source": [
    "import xlsxwriter as xlsx\n",
    "import os\n",
    "\n",
    "#-------------------------------------------------------caminho e  arquivo\n",
    "\n",
    "caminho = 'C:\\\\Users\\\\FIC\\\\Documents\\\\RSC_Python\\\\'\n",
    "arquivo = 'exemplo-2.xlsx'\n",
    "\n",
    "#-----------------------------------------------------criar um arquivo e uma aba\n",
    "workbook = xlsx.Workbook(caminho+arquivo)\n",
    "sheetDados = workbook.add_worksheet('Dados')\n",
    "\n",
    "#---------------------------------------------------Modificando a cor de fundo das celulas\n",
    "corfonte = workbook.add_format()\n",
    "corfonte.set_font_color('blue')\n",
    "\n",
    "\n",
    "#-----------------------------------------------------cor de fundo\n",
    "corfundo = workbook.add_format({'fg_color':'yellow','font_color':'gray','bold': True,'italic':True})\n",
    "\n",
    "#------------------------------------------------------escrever nas células\n",
    "sheetDados.write('A1','Nome',corfundo)\n",
    "sheetDados.write('A2','Eduardo',corfonte)\n",
    "sheetDados.write('A3','Julia', corfonte)\n",
    "sheetDados.write('A4','Jose',corfonte)\n",
    "sheetDados.write('A5','Jacqueline',corfonte)\n",
    "\n",
    "sheetDados.write('B1','Idade',corfundo)\n",
    "sheetDados.write('B2','32',corfonte)\n",
    "sheetDados.write('B3','25', corfonte)\n",
    "sheetDados.write('B4','27',corfonte)\n",
    "sheetDados.write('B5','33',corfonte)\n",
    "#-----------------------------------------------------Fechar o documento e salvar\n",
    "workbook.close()\n",
    "#----------------------------------------------------Abrir documento\n",
    "os.startfile(caminho+arquivo)"
   ]
  }
 ],
 "metadata": {
  "kernelspec": {
   "display_name": "Python 3 (ipykernel)",
   "language": "python",
   "name": "python3"
  },
  "language_info": {
   "codemirror_mode": {
    "name": "ipython",
    "version": 3
   },
   "file_extension": ".py",
   "mimetype": "text/x-python",
   "name": "python",
   "nbconvert_exporter": "python",
   "pygments_lexer": "ipython3",
   "version": "3.10.9"
  }
 },
 "nbformat": 4,
 "nbformat_minor": 5
}

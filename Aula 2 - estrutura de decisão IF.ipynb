{
 "cells": [
  {
   "cell_type": "markdown",
   "id": "13699e36",
   "metadata": {},
   "source": [
    "### Exercício 01 – Crie uma variável chamada \"idade\" e atribua um valor inteiro a ela. Verifique se a idade é maior ou igual a 18 e imprima \"Maior de idade\" ou \"Menor de idade\" de acordo com a condição."
   ]
  },
  {
   "cell_type": "code",
   "execution_count": null,
   "id": "b0bee486",
   "metadata": {},
   "outputs": [],
   "source": [
    "idade = input('informe sua idade:')\n",
    "idade = int(idade)\n",
    "\n",
    "if idade < 18:\n",
    "    print('menor de idade')\n",
    "else:\n",
    "    print('maior de idade')"
   ]
  },
  {
   "cell_type": "markdown",
   "id": "62f464b6",
   "metadata": {},
   "source": [
    "### Exercício 02 - Crie uma variável chamada \"número\" e atribua um valor inteiro a ela. Verifique se o número é positivo, negativo ou zero e imprima a mensagem correspondente."
   ]
  },
  {
   "cell_type": "code",
   "execution_count": null,
   "id": "fcf69f95",
   "metadata": {},
   "outputs": [],
   "source": [
    "numero = input('digite um numero : ')\n",
    "numero = int(numero)\n",
    "\n",
    "if numero < 0:\n",
    "    print('negativo')\n",
    "else:\n",
    "    print('positivo')\n",
    "            "
   ]
  },
  {
   "cell_type": "code",
   "execution_count": null,
   "id": "a497969a",
   "metadata": {},
   "outputs": [],
   "source": [
    "numero = input('digite um numero : ')\n",
    "numero = int(numero)\n",
    "\n",
    "if numero > 0:\n",
    "    print('positivo')\n",
    "elif numero < 0:\n",
    "    print ('negativo')\n",
    "else:\n",
    "    print ('nulo')"
   ]
  },
  {
   "cell_type": "markdown",
   "id": "fcc92e95",
   "metadata": {},
   "source": [
    "### Exercício 03 - Crie duas variáveis, \"nota1\" e \"nota2\", e atribua valores numéricos a elas. Verifique se a média das notas é maior ou igual a 7 e imprima \"Aprovado\" ou \"Reprovado\" de acordo com a condição."
   ]
  },
  {
   "cell_type": "code",
   "execution_count": null,
   "id": "58553603",
   "metadata": {},
   "outputs": [],
   "source": [
    "nota1 = input('digite a nota 1 : ')\n",
    "nota1 = int(nota1)\n",
    "\n",
    "nota2 = input('digite a nota 2 : ')\n",
    "nota2 = int(nota2)\n",
    "\n",
    "media = (nota1 + nota2 )/2\n",
    "\n",
    "if media >= 7:\n",
    "    print(f'status: Aprovado! Sua média final foi {media}. Parabens!')\n",
    "else:\n",
    "    print(f'status: Reprovado! Sua média final foi {media}. Se esforce na proxima vez!')"
   ]
  },
  {
   "cell_type": "markdown",
   "id": "b9f0fe78",
   "metadata": {},
   "source": [
    "### Exercício 04 - Crie uma variável chamada \"idade\" e atribua um valor inteiro a ela. Verifique se a idade está dentro do intervalo de 18 a 30 (inclusive) e imprima a mensagem \"Idade válida\" ou \"Idade inválida\" de acordo com a condição."
   ]
  },
  {
   "cell_type": "code",
   "execution_count": null,
   "id": "e9f2ebb9",
   "metadata": {},
   "outputs": [],
   "source": [
    "idade = int(input('digite sua idade : '))\n",
    "\n",
    "if idade >= 8 and idade <= 30:\n",
    "    print('idade valida')\n",
    "else:\n",
    "    print('idade invalida')"
   ]
  },
  {
   "cell_type": "markdown",
   "id": "d5394ffd",
   "metadata": {},
   "source": [
    "### Exercício 05 - Crie uma variável chamada \"numero\" e atribua um valor inteiro a ela. Verifique se o número é par ou ímpar e imprima a mensagem correspondente."
   ]
  },
  {
   "cell_type": "code",
   "execution_count": 2,
   "id": "f760dbb0",
   "metadata": {},
   "outputs": [
    {
     "name": "stdout",
     "output_type": "stream",
     "text": [
      "digite um numero : 2\n",
      "par\n"
     ]
    }
   ],
   "source": [
    "num = int(input('digite um numero : '))\n",
    "\n",
    "if num % 2 == 0:\n",
    "    print('par')\n",
    "else:\n",
    "    print('impar')"
   ]
  },
  {
   "cell_type": "markdown",
   "id": "44858c60",
   "metadata": {},
   "source": [
    "### Exercício 06 - Crie uma variável chamada \"horario\" e atribua um valor inteiro representando a hora do dia (em formato 24 horas). Verifique se o horário está dentro do período da manhã (das 6h às 12h), da tarde (das 12h às 18h) ou da noite (das 18h às 23h) e imprima a mensagem correspondente."
   ]
  },
  {
   "cell_type": "code",
   "execution_count": 23,
   "id": "3a15731b",
   "metadata": {},
   "outputs": [
    {
     "name": "stdout",
     "output_type": "stream",
     "text": [
      "que horas são:24\n",
      "horario invalido\n"
     ]
    }
   ],
   "source": [
    "horario = int(input('que horas são:'))\n",
    "\n",
    "if horario >= 6 and horario < 12:\n",
    "    print('bom dia')\n",
    "    \n",
    "elif horario >=12 and horario < 18:\n",
    "    print('boa tarde')\n",
    "    \n",
    "elif horario >= 18 and horario < 23:\n",
    "    print('boa noite')\n",
    "\n",
    "elif horario >= 0 and horario <= 5:\n",
    "    print('horario indisponivel')\n",
    "    \n",
    "else:\n",
    "    print('horario invalido')"
   ]
  },
  {
   "cell_type": "markdown",
   "id": "f1724246",
   "metadata": {},
   "source": [
    "### Exercício 07 - Crie uma variável chamada \"peso\" e atribua um valor numérico a ela. Verifique se o peso está dentro do intervalo de 50 a 100 (inclusive) e imprima a mensagem \"Peso válido\" ou \"Peso inválido\" de acordo com a condição."
   ]
  },
  {
   "cell_type": "code",
   "execution_count": 25,
   "id": "333dacaa",
   "metadata": {},
   "outputs": [
    {
     "name": "stdout",
     "output_type": "stream",
     "text": [
      "digite o valor do peso:55\n",
      "Peso válido\n"
     ]
    }
   ],
   "source": [
    "peso = int(input('digite o valor do peso:'))\n",
    "\n",
    "if peso >= 50 and peso <= 100:\n",
    "    print('Peso válido')\n",
    "    \n",
    "else:\n",
    "    print('peso invalido')"
   ]
  },
  {
   "cell_type": "markdown",
   "id": "550a1520",
   "metadata": {},
   "source": [
    "### Exercício 08 - Crie uma variável chamada \"numero\" e atribua um valor inteiro a ela. Verifique se o número é múltiplo de 3 e de 5 ao mesmo tempo e imprima a mensagem correspondente."
   ]
  },
  {
   "cell_type": "code",
   "execution_count": 37,
   "id": "ffd0f4af",
   "metadata": {},
   "outputs": [
    {
     "name": "stdout",
     "output_type": "stream",
     "text": [
      "digite um numero: 20\n",
      "o numero20 não é multiplo de 3 e 5\n"
     ]
    }
   ],
   "source": [
    "numero = int(input('digite um numero: '))\n",
    "\n",
    "if (numero % 3 == 0) and (numero % 5 == 0):\n",
    "    print(f'o numero {numero} é multiplo de 3 e 5 ao mesmo tempo')\n",
    "    \n",
    "else:\n",
    "    print(f'o numero{numero} não é multiplo de 3 e 5')"
   ]
  },
  {
   "cell_type": "markdown",
   "id": "8cc4ef22",
   "metadata": {},
   "source": [
    "### Exercício 09 - Crie uma variável chamada \"ano\" e atribua um valor inteiro representando um ano. Verifique se o ano é bissexto (divisível por 4, mas não por 100, exceto se for divisível por 400) e imprima a mensagem correspondente."
   ]
  },
  {
   "cell_type": "code",
   "execution_count": 42,
   "id": "e791d8d2",
   "metadata": {},
   "outputs": [
    {
     "name": "stdout",
     "output_type": "stream",
     "text": [
      "digite um numero referente a um ano: 2021\n",
      "o ano 2021, não é bissexto.\n"
     ]
    }
   ],
   "source": [
    "ano = int(input('digite um numero referente a um ano: '))\n",
    "\n",
    "if ((ano % 4 == 0) and (ano % 100 != 0)) or (ano % 400 == 0):\n",
    "    print( f'o ano {ano}, é um ano bissexto.')\n",
    "\n",
    "else:\n",
    "    print(f'o ano {ano}, não é bissexto.')"
   ]
  },
  {
   "cell_type": "markdown",
   "id": "e20f4e97",
   "metadata": {},
   "source": [
    "### Exercício 10 - Crie uma variável chamada \"salario\" e atribua um valor numérico a ela. Verifique se o salário é maior do que 1000 e menor do que 2000 ao mesmo tempo e imprima a mensagem correspondente."
   ]
  },
  {
   "cell_type": "code",
   "execution_count": 50,
   "id": "c1071e1c",
   "metadata": {},
   "outputs": [
    {
     "name": "stdout",
     "output_type": "stream",
     "text": [
      "digite o valor do salario. R$ 1500\n",
      "O valor R$1500.0 esta dentro da faixa especificada\n"
     ]
    }
   ],
   "source": [
    "salario = float(input('digite o valor do salario. R$ '))\n",
    "\n",
    "if salario > 1000 and salario < 2000:\n",
    "    print(f'O valor R${salario} esta dentro da faixa especificada')\n",
    "\n",
    "else:\n",
    "    print(f'O valor R${salario} esta fora da faixa' )\n",
    "\n",
    "       "
   ]
  },
  {
   "cell_type": "markdown",
   "id": "d6aaee21",
   "metadata": {},
   "source": [
    "### Exercício 11 - Faça um Programa que peça dois números e imprima o maior deles."
   ]
  },
  {
   "cell_type": "code",
   "execution_count": 53,
   "id": "547e292d",
   "metadata": {},
   "outputs": [
    {
     "name": "stdout",
     "output_type": "stream",
     "text": [
      "digite o primeiro numero 10\n",
      "digite o segundo numero 22\n",
      "22\n"
     ]
    }
   ],
   "source": [
    "num1 = int(input('digite o primeiro numero '))\n",
    "num2 = int(input('digite o segundo numero '))\n",
    "\n",
    "if num1 > num2:\n",
    "    print(num1)\n",
    "\n",
    "else:\n",
    "    print(num2)"
   ]
  },
  {
   "cell_type": "markdown",
   "id": "5bd49af1",
   "metadata": {},
   "source": [
    "### Exercício 12 - Faça um Programa que peça um valor e mostre na tela se o valor é positivo ou negativo."
   ]
  },
  {
   "cell_type": "code",
   "execution_count": 57,
   "id": "a54648b0",
   "metadata": {},
   "outputs": [
    {
     "name": "stdout",
     "output_type": "stream",
     "text": [
      "digite um numero-2\n",
      "O numero -2 é negativo\n"
     ]
    }
   ],
   "source": [
    "valor = int(input('digite um numero'))\n",
    "\n",
    "if valor > 0:\n",
    "    print(f'O numero {valor} é positivo')\n",
    "\n",
    "else:\n",
    "    print(f'O numero {valor} é negativo')"
   ]
  },
  {
   "cell_type": "markdown",
   "id": "a53bf4fc",
   "metadata": {},
   "source": [
    "### Exercício 13 - Faça um Programa que verifique se uma letra digitada é \"F\" ou \"M\". Conforme a letra escrever: F - Feminino, M - Masculino, Sexo Inválido."
   ]
  },
  {
   "cell_type": "code",
   "execution_count": 66,
   "id": "a23b158a",
   "metadata": {},
   "outputs": [
    {
     "name": "stdout",
     "output_type": "stream",
     "text": [
      "digite a letra correspondente ao sexo: f\n",
      "sexo feminino\n"
     ]
    }
   ],
   "source": [
    "sexo = input('digite a letra correspondente ao sexo: ')\n",
    "\n",
    "if sexo == 'f':\n",
    "    print('sexo feminino')\n",
    "    \n",
    "elif sexo == 'm':\n",
    "    print('sexo masculino')\n",
    "    \n",
    "else:\n",
    "    print('sexo indefinido')\n",
    "\n"
   ]
  }
 ],
 "metadata": {
  "kernelspec": {
   "display_name": "Python 3 (ipykernel)",
   "language": "python",
   "name": "python3"
  },
  "language_info": {
   "codemirror_mode": {
    "name": "ipython",
    "version": 3
   },
   "file_extension": ".py",
   "mimetype": "text/x-python",
   "name": "python",
   "nbconvert_exporter": "python",
   "pygments_lexer": "ipython3",
   "version": "3.10.9"
  }
 },
 "nbformat": 4,
 "nbformat_minor": 5
}
